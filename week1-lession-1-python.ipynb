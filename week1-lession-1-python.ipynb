{
 "cells": [
  {
   "cell_type": "markdown",
   "id": "b67f0d39-f3e8-4a40-9f4c-0e5dc0ec3c74",
   "metadata": {},
   "source": [
    "### Python Reveiw\n",
    "\n",
    "Goals:\n",
    "- recall basic pythin vocabulary\n",
    "- praactice markdown\n",
    "## Library and packages\n",
    "\n",
    "**library**: collection of code that we can use to perfomre specific task in our programs.\n",
    "\n",
    "**Numpy**:\n",
    "- core library for numerical computating in Python\n",
    "- many other libraries use Numpy arrays as building blocks\n",
    "- computations on Numpy are optiomized for speed and memory usage\n",
    "\n",
    "Let's import Numpy with **standard abbreviation**"
   ]
  },
  {
   "cell_type": "code",
   "execution_count": 1,
   "id": "6ee7d48e-9de5-4f82-972f-7c23b81a0e0c",
   "metadata": {
    "tags": []
   },
   "outputs": [],
   "source": [
    "import numpy as np"
   ]
  },
  {
   "cell_type": "markdown",
   "id": "252caf48-193b-4895-8d17-be30c285c206",
   "metadata": {},
   "source": [
    "# Variables\n",
    "**Variables**: a name we assign to a particular object in Python\n",
    "\n",
    "Example:"
   ]
  },
  {
   "cell_type": "code",
   "execution_count": 2,
   "id": "bd95df9f-ba51-44b0-b3cd-1523cbed08ee",
   "metadata": {
    "tags": []
   },
   "outputs": [],
   "source": [
    "## Assign a small array to a variable a\n",
    "a =np.array([[1,1,2],[3,5,8]])"
   ]
  },
  {
   "cell_type": "code",
   "execution_count": 3,
   "id": "f105b5ae-c2ec-474e-a57d-b74045d3bf2d",
   "metadata": {
    "tags": []
   },
   "outputs": [
    {
     "data": {
      "text/plain": [
       "array([[1, 1, 2],\n",
       "       [3, 5, 8]])"
      ]
     },
     "execution_count": 3,
     "metadata": {},
     "output_type": "execute_result"
    }
   ],
   "source": [
    "# Run cell with the variable name to show value\n",
    "a # has two rows and two columns"
   ]
  },
  {
   "cell_type": "code",
   "execution_count": 4,
   "id": "1fdd6524-3f49-4d89-9dd3-1d7d69b1eca8",
   "metadata": {
    "tags": []
   },
   "outputs": [
    {
     "name": "stdout",
     "output_type": "stream",
     "text": [
      "[[1 1 2]\n",
      " [3 5 8]]\n"
     ]
    }
   ],
   "source": [
    "# Use `print` function to print the value\n",
    "print(a)"
   ]
  },
  {
   "cell_type": "markdown",
   "id": "56e3fe0d-a9cb-4ec4-aad9-c87650d9a34a",
   "metadata": {},
   "source": [
    "## Objects\n",
    "**object** (informally speaking) is a bundle of *properties* and *action* about something specific.\n",
    "\n",
    "Example:\n",
    "Object: data frame\n",
    "\n",
    "Properties: number rows, name of the columns, date created\n",
    "\n",
    "Actions: selecting a specific row, adding a new column\n",
    "\n",
    "A variable is the name we give a specific object, and the same object can be referenced by different variables.\n",
    "\n",
    "In practice, we can often use variables and object interchangeably.\n",
    "\n",
    "## Types\n",
    "\n",
    "Every object in Python has a **type**. The type tells us what kind of object it is.\n",
    "We can also call the type of an object, the **class** of an object and they both mean that kind of object we have."
   ]
  },
  {
   "cell_type": "code",
   "execution_count": 5,
   "id": "e69b3350-5af3-44b9-a911-108668b83da6",
   "metadata": {},
   "outputs": [
    {
     "name": "stdout",
     "output_type": "stream",
     "text": [
      "[[1 1 2]\n",
      " [3 5 8]]\n"
     ]
    },
    {
     "data": {
      "text/plain": [
       "numpy.ndarray"
      ]
     },
     "execution_count": 5,
     "metadata": {},
     "output_type": "execute_result"
    }
   ],
   "source": [
    "print(a)\n",
    "\n",
    "# check the type/class of a variable/object by using `type` function \n",
    "type(a)"
   ]
  },
  {
   "cell_type": "code",
   "execution_count": 8,
   "id": "b5238b65-fde6-46f7-a7c3-7eaccd3861c5",
   "metadata": {
    "tags": []
   },
   "outputs": [
    {
     "name": "stdout",
     "output_type": "stream",
     "text": [
      "1\n"
     ]
    },
    {
     "data": {
      "text/plain": [
       "list"
      ]
     },
     "execution_count": 8,
     "metadata": {},
     "output_type": "execute_result"
    }
   ],
   "source": [
    "print(a[0,0])\n",
    "\n",
    "# check the type on an entery on the array by indexing\n",
    "type([0,0])"
   ]
  },
  {
   "cell_type": "markdown",
   "id": "80bed379-a7a6-40c9-9cfb-326ea4b865e2",
   "metadata": {},
   "source": [
    "Note that `type9a[0,0])` is `numpy.int64` and not just the standard Pythin interger type. This is telling us that 1 is an integer stored as a 64-bit number."
   ]
  },
  {
   "cell_type": "code",
   "execution_count": 9,
   "id": "892a8f9a-985e-4a26-8923-6a3f909c53e2",
   "metadata": {
    "tags": []
   },
   "outputs": [
    {
     "data": {
      "text/plain": [
       "5"
      ]
     },
     "execution_count": 9,
     "metadata": {},
     "output_type": "execute_result"
    }
   ],
   "source": [
    "# How would you access the value 5 in the array a?\n",
    "a[1,1]"
   ]
  },
  {
   "cell_type": "markdown",
   "id": "b45aeecb-0a3d-4786-98ba-6f0aaf7247a3",
   "metadata": {},
   "source": [
    "### Function\n",
    "\n",
    "`print` was our first example of a othon **functions**.\n",
    "\n",
    "argument = paramter.\n",
    "\n",
    "we can ask information about a function by executing `?function`"
   ]
  },
  {
   "cell_type": "code",
   "execution_count": 10,
   "id": "79b95c9c-e845-41b0-a218-60e8f8b4b5b8",
   "metadata": {
    "tags": []
   },
   "outputs": [
    {
     "data": {
      "text/plain": [
       "\u001b[0;31mSignature:\u001b[0m \u001b[0mprint\u001b[0m\u001b[0;34m(\u001b[0m\u001b[0;34m*\u001b[0m\u001b[0margs\u001b[0m\u001b[0;34m,\u001b[0m \u001b[0msep\u001b[0m\u001b[0;34m=\u001b[0m\u001b[0;34m' '\u001b[0m\u001b[0;34m,\u001b[0m \u001b[0mend\u001b[0m\u001b[0;34m=\u001b[0m\u001b[0;34m'\\n'\u001b[0m\u001b[0;34m,\u001b[0m \u001b[0mfile\u001b[0m\u001b[0;34m=\u001b[0m\u001b[0;32mNone\u001b[0m\u001b[0;34m,\u001b[0m \u001b[0mflush\u001b[0m\u001b[0;34m=\u001b[0m\u001b[0;32mFalse\u001b[0m\u001b[0;34m)\u001b[0m\u001b[0;34m\u001b[0m\u001b[0;34m\u001b[0m\u001b[0m\n",
       "\u001b[0;31mDocstring:\u001b[0m\n",
       "Prints the values to a stream, or to sys.stdout by default.\n",
       "\n",
       "sep\n",
       "  string inserted between values, default a space.\n",
       "end\n",
       "  string appended after the last value, default a newline.\n",
       "file\n",
       "  a file-like object (stream); defaults to the current sys.stdout.\n",
       "flush\n",
       "  whether to forcibly flush the stream.\n",
       "\u001b[0;31mType:\u001b[0m      builtin_function_or_method"
      ]
     },
     "metadata": {},
     "output_type": "display_data"
    }
   ],
   "source": [
    "?print"
   ]
  },
  {
   "cell_type": "markdown",
   "id": "3ffa3c60-8b8e-457f-ae12-2020b80473f8",
   "metadata": {},
   "source": [
    "This information is a **docstring**.\n",
    "\n",
    "A function has two type of arguments\n",
    "- ** non-optional argument**: argument *you*  need to specify for the function to do something\n",
    "\n",
    "- **optional argument**: argument that are pre-filled with a defult value by the function. You can override them.\n",
    "Optional argument appear inside the parenthesis in the form `optional_argument=default_value`"
   ]
  },
  {
   "cell_type": "code",
   "execution_count": 11,
   "id": "f7a0d036-e666-49e7-ba6e-7366ecb73151",
   "metadata": {
    "tags": []
   },
   "outputs": [
    {
     "name": "stdout",
     "output_type": "stream",
     "text": [
      "changing the defuakt end argument :)"
     ]
    }
   ],
   "source": [
    "print('changing the defualt end argument', end=' :)')"
   ]
  },
  {
   "cell_type": "markdown",
   "id": "1d22363d-a18b-4780-80f3-6e7734f876c4",
   "metadata": {},
   "source": [
    "## Attribute & Methods\n",
    "\n",
    "As object in python has attributes and methods.\n",
    "\n",
    "- **attribute**: a property of an object, some pieces of infromation about it\n",
    "- **method**: a procedure associated with the object, an action where the main ingredients is the object.\n",
    "\n",
    "### Check-in\n",
    "Fish attrirbute:\n",
    "\n",
    "- length, color, species\n",
    "- die(), bite(), swim()\n",
    "\n",
    "**Example**\n",
    "Attributes for `numpy.array`\n",
    "\n",
    "We can access a variable's attributes and methods by adding a period `.` at the end of te varible's name.\n",
    "`vairbale.methods()` or `variables.attribute`\n"
   ]
  },
  {
   "cell_type": "code",
   "execution_count": 12,
   "id": "05357a24-e91a-42a0-b220-6ca1b840d4ea",
   "metadata": {
    "tags": []
   },
   "outputs": [
    {
     "data": {
      "text/plain": [
       "(2, 3)"
      ]
     },
     "execution_count": 12,
     "metadata": {},
     "output_type": "execute_result"
    }
   ],
   "source": [
    "a.shape"
   ]
  },
  {
   "cell_type": "code",
   "execution_count": 13,
   "id": "6946290d-3b13-484c-a3c5-984d495a2495",
   "metadata": {
    "tags": []
   },
   "outputs": [
    {
     "data": {
      "text/plain": [
       "tuple"
      ]
     },
     "execution_count": 13,
     "metadata": {},
     "output_type": "execute_result"
    }
   ],
   "source": [
    "type(a.shape)"
   ]
  },
  {
   "cell_type": "code",
   "execution_count": 14,
   "id": "6bc7cc79-6a7b-4f3d-84cb-13415ed4cb61",
   "metadata": {
    "tags": []
   },
   "outputs": [
    {
     "data": {
      "text/plain": [
       "array([[1, 1, 2],\n",
       "       [3, 5, 8]])"
      ]
     },
     "execution_count": 14,
     "metadata": {},
     "output_type": "execute_result"
    }
   ],
   "source": [
    "a"
   ]
  },
  {
   "cell_type": "code",
   "execution_count": 15,
   "id": "dd52c7ff-8e66-4c98-afcf-13276e805dff",
   "metadata": {
    "tags": []
   },
   "outputs": [
    {
     "data": {
      "text/plain": [
       "array([1, 1, 2])"
      ]
     },
     "execution_count": 15,
     "metadata": {},
     "output_type": "execute_result"
    }
   ],
   "source": [
    "# Methods examples \n",
    "# min() returns the minimum values along a specified axis\n",
    "a.min(axis= 0)"
   ]
  },
  {
   "cell_type": "markdown",
   "id": "c4b8273d-ca40-40e0-9627-c1b25573b91d",
   "metadata": {},
   "source": [
    "### Check-in\n",
    "We can also call the min method without any parameters:"
   ]
  },
  {
   "cell_type": "code",
   "execution_count": 16,
   "id": "e5c71374-aa5a-457b-94bf-6b4b543da45c",
   "metadata": {
    "tags": []
   },
   "outputs": [
    {
     "data": {
      "text/plain": [
       "1"
      ]
     },
     "execution_count": 16,
     "metadata": {},
     "output_type": "execute_result"
    }
   ],
   "source": [
    "a.min() # parameters are optional"
   ]
  },
  {
   "cell_type": "markdown",
   "id": "c52cff9d-8a96-47bd-b026-09d49501a557",
   "metadata": {},
   "source": [
    "Rememeber: methods are functions associated with an object."
   ]
  },
  {
   "cell_type": "code",
   "execution_count": 17,
   "id": "7c9764f1-6955-4cf6-9db4-2ca6ffc06427",
   "metadata": {
    "tags": []
   },
   "outputs": [
    {
     "data": {
      "text/plain": [
       "builtin_function_or_method"
      ]
     },
     "execution_count": 17,
     "metadata": {},
     "output_type": "execute_result"
    }
   ],
   "source": [
    "#methods are functions associated to an object. We can confirm this!\n",
    "type(a.min) # tells this is a method for that object"
   ]
  },
  {
   "cell_type": "markdown",
   "id": "7d19d694-a0e1-4668-a69b-84d4b17961f5",
   "metadata": {},
   "source": [
    "### Exercise\n",
    "\n",
    "1. Read the `print` function help. what is the **type** of the argument `sep`? Is this an optiional or non-optional argument? Why?\n",
    "\n",
    "2. Create two new variables, one with integer value 77 an another one with the string 99.\n",
    "\n",
    "3. Use your varibles to pront `77%99%77` by changing the value of one of the optional arguemnts in `print`"
   ]
  },
  {
   "cell_type": "code",
   "execution_count": 20,
   "id": "1e019de0-c315-493e-88fe-202782d95e4b",
   "metadata": {
    "tags": []
   },
   "outputs": [
    {
     "data": {
      "text/plain": [
       "\u001b[0;31mSignature:\u001b[0m \u001b[0mprint\u001b[0m\u001b[0;34m(\u001b[0m\u001b[0;34m*\u001b[0m\u001b[0margs\u001b[0m\u001b[0;34m,\u001b[0m \u001b[0msep\u001b[0m\u001b[0;34m=\u001b[0m\u001b[0;34m' '\u001b[0m\u001b[0;34m,\u001b[0m \u001b[0mend\u001b[0m\u001b[0;34m=\u001b[0m\u001b[0;34m'\\n'\u001b[0m\u001b[0;34m,\u001b[0m \u001b[0mfile\u001b[0m\u001b[0;34m=\u001b[0m\u001b[0;32mNone\u001b[0m\u001b[0;34m,\u001b[0m \u001b[0mflush\u001b[0m\u001b[0;34m=\u001b[0m\u001b[0;32mFalse\u001b[0m\u001b[0;34m)\u001b[0m\u001b[0;34m\u001b[0m\u001b[0;34m\u001b[0m\u001b[0m\n",
       "\u001b[0;31mDocstring:\u001b[0m\n",
       "Prints the values to a stream, or to sys.stdout by default.\n",
       "\n",
       "sep\n",
       "  string inserted between values, default a space.\n",
       "end\n",
       "  string appended after the last value, default a newline.\n",
       "file\n",
       "  a file-like object (stream); defaults to the current sys.stdout.\n",
       "flush\n",
       "  whether to forcibly flush the stream.\n",
       "\u001b[0;31mType:\u001b[0m      builtin_function_or_method"
      ]
     },
     "metadata": {},
     "output_type": "display_data"
    }
   ],
   "source": [
    "# 1\n",
    "?print\n",
    "# sep='' is a string but can also see it that it has '' after = "
   ]
  },
  {
   "cell_type": "code",
   "execution_count": 24,
   "id": "24d5a870-ef09-4566-a5ab-1c26efe6948b",
   "metadata": {
    "tags": []
   },
   "outputs": [
    {
     "name": "stdout",
     "output_type": "stream",
     "text": [
      "77%99%77\n"
     ]
    }
   ],
   "source": [
    "#2 \n",
    "x= 77 # this is a number\n",
    "y= '99' # this is a string\n",
    "\n",
    "#print(x,y) # will print in default with spaces\n",
    "\n",
    "print(x,y,x, sep='%') # will add % to the spaces using `sep` object of strings"
   ]
  },
  {
   "cell_type": "code",
   "execution_count": null,
   "id": "5768b9e3-e910-4da9-b183-fcc3f3528cc9",
   "metadata": {},
   "outputs": [],
   "source": []
  }
 ],
 "metadata": {
  "kernelspec": {
   "display_name": "EDS220",
   "language": "python",
   "name": "eds220-env"
  },
  "language_info": {
   "codemirror_mode": {
    "name": "ipython",
    "version": 3
   },
   "file_extension": ".py",
   "mimetype": "text/x-python",
   "name": "python",
   "nbconvert_exporter": "python",
   "pygments_lexer": "ipython3",
   "version": "3.11.4"
  }
 },
 "nbformat": 4,
 "nbformat_minor": 5
}
