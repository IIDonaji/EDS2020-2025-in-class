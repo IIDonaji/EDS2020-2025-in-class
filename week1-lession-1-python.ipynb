{
 "cells": [
  {
   "cell_type": "markdown",
   "id": "b67f0d39-f3e8-4a40-9f4c-0e5dc0ec3c74",
   "metadata": {},
   "source": [
    "### Python Reveiw\n",
    "\n",
    "Goals:\n",
    "- recall basic pythin vocabulary\n",
    "- praactice markdown\n",
    "## Library and packages\n",
    "\n",
    "**library**: collection of code that we can use to perfomre specific task in our programs.\n",
    "\n",
    "**Numpy**:\n",
    "- core library for numerical computating in Python\n",
    "- many other libraries use Numpy arrays as building blocks\n",
    "- computations on Numpy are optiomized for speed and memory usage\n",
    "\n",
    "Let's import Numpy with **standard abbreviation**"
   ]
  },
  {
   "cell_type": "code",
   "execution_count": 1,
   "id": "6ee7d48e-9de5-4f82-972f-7c23b81a0e0c",
   "metadata": {
    "tags": []
   },
   "outputs": [],
   "source": [
    "import numpy as np"
   ]
  },
  {
   "cell_type": "markdown",
   "id": "252caf48-193b-4895-8d17-be30c285c206",
   "metadata": {},
   "source": [
    "# Variables\n",
    "**Variables**: a name we assign to a particular object in Python\n",
    "\n",
    "Example:"
   ]
  },
  {
   "cell_type": "code",
   "execution_count": 2,
   "id": "bd95df9f-ba51-44b0-b3cd-1523cbed08ee",
   "metadata": {
    "tags": []
   },
   "outputs": [],
   "source": [
    "## Assign a small array to a variable a\n",
    "a =np.array([[1,1,2],[3,5,8]])"
   ]
  },
  {
   "cell_type": "code",
   "execution_count": 3,
   "id": "f105b5ae-c2ec-474e-a57d-b74045d3bf2d",
   "metadata": {
    "tags": []
   },
   "outputs": [
    {
     "data": {
      "text/plain": [
       "array([[1, 1, 2],\n",
       "       [3, 5, 8]])"
      ]
     },
     "execution_count": 3,
     "metadata": {},
     "output_type": "execute_result"
    }
   ],
   "source": [
    "# Run cell with the variable name to show value\n",
    "a"
   ]
  },
  {
   "cell_type": "code",
   "execution_count": 4,
   "id": "1fdd6524-3f49-4d89-9dd3-1d7d69b1eca8",
   "metadata": {
    "tags": []
   },
   "outputs": [
    {
     "name": "stdout",
     "output_type": "stream",
     "text": [
      "[[1 1 2]\n",
      " [3 5 8]]\n"
     ]
    }
   ],
   "source": [
    "# Use `print` function to print the value\n",
    "print(a)"
   ]
  },
  {
   "cell_type": "markdown",
   "id": "56e3fe0d-a9cb-4ec4-aad9-c87650d9a34a",
   "metadata": {},
   "source": [
    "## Objects\n",
    "**object** (informally speaking) is a bundle of *properties* and *action* about something specific.\n",
    "\n",
    "Example:\n",
    "Object: data frame\n",
    "\n",
    "Properties: number rows, name of the columns, date created\n",
    "\n",
    "Actions: selecting a specific row, adding a new column\n",
    "\n",
    "A variable is the name we give a specific object, and the same object can be referenced by different variables.\n",
    "\n",
    "In practice, we can often use variables and object interchangeably."
   ]
  },
  {
   "cell_type": "code",
   "execution_count": null,
   "id": "e69b3350-5af3-44b9-a911-108668b83da6",
   "metadata": {},
   "outputs": [],
   "source": []
  }
 ],
 "metadata": {
  "kernelspec": {
   "display_name": "EDS220",
   "language": "python",
   "name": "eds220-env"
  },
  "language_info": {
   "codemirror_mode": {
    "name": "ipython",
    "version": 3
   },
   "file_extension": ".py",
   "mimetype": "text/x-python",
   "name": "python",
   "nbconvert_exporter": "python",
   "pygments_lexer": "ipython3",
   "version": "3.11.4"
  }
 },
 "nbformat": 4,
 "nbformat_minor": 5
}
