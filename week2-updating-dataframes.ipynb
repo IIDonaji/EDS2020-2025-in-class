{
 "cells": [
  {
   "cell_type": "code",
   "execution_count": 1,
   "id": "806f5eee-9e91-4e23-b586-7a7e009d6e2e",
   "metadata": {
    "tags": []
   },
   "outputs": [],
   "source": [
    "import numpy as np\n",
    "import pandas as pd\n",
    "import random  # Used for randomly sampling integers\n",
    "\n",
    "# Set the seed\n",
    "random.seed(42)\n",
    "\n",
    "# Import data\n",
    "URL = 'https://raw.githubusercontent.com/allisonhorst/palmerpenguins/main/inst/extdata/penguins.csv'\n",
    "penguins = pd.read_csv(URL)"
   ]
  },
  {
   "cell_type": "code",
   "execution_count": 2,
   "id": "e933e67b-fb65-41ac-85b0-87eb709b3b5c",
   "metadata": {
    "tags": []
   },
   "outputs": [
    {
     "ename": "NameError",
     "evalue": "name 'new_column_values' is not defined",
     "output_type": "error",
     "traceback": [
      "\u001b[0;31m---------------------------------------------------------------------------\u001b[0m",
      "\u001b[0;31mNameError\u001b[0m                                 Traceback (most recent call last)",
      "Cell \u001b[0;32mIn[2], line 1\u001b[0m\n\u001b[0;32m----> 1\u001b[0m df[\u001b[38;5;124m'\u001b[39m\u001b[38;5;124mnew_col_name\u001b[39m\u001b[38;5;124m'\u001b[39m] \u001b[38;5;241m=\u001b[39m \u001b[43mnew_column_values\u001b[49m\n",
      "\u001b[0;31mNameError\u001b[0m: name 'new_column_values' is not defined"
     ]
    }
   ],
   "source": [
    "df['new_col_name'] = new_column_values"
   ]
  },
  {
   "cell_type": "code",
   "execution_count": null,
   "id": "a11c7b9b-530c-4e07-bebd-231fe1b2174f",
   "metadata": {},
   "outputs": [],
   "source": [
    "# Add a new key-value pair to a dictionary\n",
    "dict[new_key] = new_value"
   ]
  },
  {
   "cell_type": "code",
   "execution_count": null,
   "id": "5359dfdd-dc5e-4b5e-af56-b94facc4f253",
   "metadata": {},
   "outputs": [],
   "source": [
    "# Add new column body_mass_kg \n",
    "penguins['body_mass_kg'] = penguins['body_mass_g']/1000\n",
    "\n",
    "# Confirm the new column is in the data frame\n",
    "print(\"body_mass_kg is in the data frame's columns: \", 'body_mass_kg' in penguins.columns)\n",
    "\n",
    "# Look at the new column\n",
    "penguins.head()"
   ]
  },
  {
   "cell_type": "code",
   "execution_count": null,
   "id": "94c3c83a-d676-4018-a3c3-bd7aa1c54443",
   "metadata": {},
   "outputs": [],
   "source": [
    "df = df.assign(new_col_name=new_column_values)"
   ]
  },
  {
   "cell_type": "code",
   "execution_count": null,
   "id": "5a691751-b0c6-4115-8a9d-1dfa1573622e",
   "metadata": {},
   "outputs": [],
   "source": [
    "(penguins.assign(bill_length_cm=penguins.bill_length_mm/10)\n",
    "        .plot(kind='scatter',\n",
    "              x='bill_length_cm', \n",
    "              y='body_mass_g')\n",
    "    )"
   ]
  },
  {
   "cell_type": "code",
   "execution_count": null,
   "id": "a716c71e-b317-4a77-9a46-d0d2eb03f177",
   "metadata": {},
   "outputs": [],
   "source": [
    "df.insert(loc=integer_index,  # Location of new column\n",
    "          column='new_col_name', \n",
    "          value=new_col_values)"
   ]
  },
  {
   "cell_type": "code",
   "execution_count": null,
   "id": "0b2f593d-5778-45d7-a0f3-9049c37cd70c",
   "metadata": {},
   "outputs": [],
   "source": [
    "# Create columns with observer codes and flipper length in cm\n",
    "penguins = penguins.assign(flipper_length_cm=penguins.flipper_length_mm/10, \n",
    "                           observer=random.choices(['A','B','C'],  # Sample with replacement\n",
    "                                                    k=len(penguins))\n",
    "                          )\n",
    "# Examine result\n",
    "penguins.head()"
   ]
  },
  {
   "cell_type": "code",
   "execution_count": null,
   "id": "cd18b804-2fdb-4a6a-8fc4-c045fc735b84",
   "metadata": {},
   "outputs": [],
   "source": [
    "df = df.drop(columns=col_names)"
   ]
  },
  {
   "cell_type": "code",
   "execution_count": null,
   "id": "72cfb2ae-835f-4c7e-bba7-a3443a3ef174",
   "metadata": {},
   "outputs": [],
   "source": [
    "# Remove duplicate length and mass measurements\n",
    "penguins = penguins.drop(columns=['flipper_length_mm','body_mass_g'])\n",
    "\n",
    "# Confirm result\n",
    "print(penguins.columns)"
   ]
  }
 ],
 "metadata": {
  "kernelspec": {
   "display_name": "EDS220",
   "language": "python",
   "name": "eds220-env"
  },
  "language_info": {
   "codemirror_mode": {
    "name": "ipython",
    "version": 3
   },
   "file_extension": ".py",
   "mimetype": "text/x-python",
   "name": "python",
   "nbconvert_exporter": "python",
   "pygments_lexer": "ipython3",
   "version": "3.11.4"
  }
 },
 "nbformat": 4,
 "nbformat_minor": 5
}
