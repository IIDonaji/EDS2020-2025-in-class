{
 "cells": [
  {
   "cell_type": "markdown",
   "id": "e3324c4d-a3d1-48e1-b242-c8a4cdacdf5f",
   "metadata": {},
   "source": [
    "# Updating data frames\n",
    "\n",
    "## Updating values is a dataframe\n",
    "\n",
    "Start by importing packages and data"
   ]
  },
  {
   "cell_type": "code",
   "execution_count": 2,
   "id": "806f5eee-9e91-4e23-b586-7a7e009d6e2e",
   "metadata": {
    "tags": []
   },
   "outputs": [],
   "source": [
    "import numpy as np\n",
    "import pandas as pd\n",
    "import random  # Used for randomly sampling integers\n",
    "\n",
    "# Set the seed\n",
    "random.seed(42)\n",
    "\n",
    "# Import data\n",
    "URL = 'https://raw.githubusercontent.com/allisonhorst/palmerpenguins/main/inst/extdata/penguins.csv'\n",
    "penguins = pd.read_csv(URL)"
   ]
  },
  {
   "cell_type": "code",
   "execution_count": 3,
   "id": "e933e67b-fb65-41ac-85b0-87eb709b3b5c",
   "metadata": {
    "tags": []
   },
   "outputs": [
    {
     "data": {
      "text/html": [
       "<div>\n",
       "<style scoped>\n",
       "    .dataframe tbody tr th:only-of-type {\n",
       "        vertical-align: middle;\n",
       "    }\n",
       "\n",
       "    .dataframe tbody tr th {\n",
       "        vertical-align: top;\n",
       "    }\n",
       "\n",
       "    .dataframe thead th {\n",
       "        text-align: right;\n",
       "    }\n",
       "</style>\n",
       "<table border=\"1\" class=\"dataframe\">\n",
       "  <thead>\n",
       "    <tr style=\"text-align: right;\">\n",
       "      <th></th>\n",
       "      <th>species</th>\n",
       "      <th>island</th>\n",
       "      <th>bill_length_mm</th>\n",
       "      <th>bill_depth_mm</th>\n",
       "      <th>flipper_length_mm</th>\n",
       "      <th>body_mass_g</th>\n",
       "      <th>sex</th>\n",
       "      <th>year</th>\n",
       "    </tr>\n",
       "  </thead>\n",
       "  <tbody>\n",
       "    <tr>\n",
       "      <th>0</th>\n",
       "      <td>Adelie</td>\n",
       "      <td>Torgersen</td>\n",
       "      <td>39.1</td>\n",
       "      <td>18.7</td>\n",
       "      <td>181.0</td>\n",
       "      <td>3750.0</td>\n",
       "      <td>male</td>\n",
       "      <td>2007</td>\n",
       "    </tr>\n",
       "    <tr>\n",
       "      <th>1</th>\n",
       "      <td>Adelie</td>\n",
       "      <td>Torgersen</td>\n",
       "      <td>39.5</td>\n",
       "      <td>17.4</td>\n",
       "      <td>186.0</td>\n",
       "      <td>3800.0</td>\n",
       "      <td>female</td>\n",
       "      <td>2007</td>\n",
       "    </tr>\n",
       "    <tr>\n",
       "      <th>2</th>\n",
       "      <td>Adelie</td>\n",
       "      <td>Torgersen</td>\n",
       "      <td>40.3</td>\n",
       "      <td>18.0</td>\n",
       "      <td>195.0</td>\n",
       "      <td>3250.0</td>\n",
       "      <td>female</td>\n",
       "      <td>2007</td>\n",
       "    </tr>\n",
       "    <tr>\n",
       "      <th>3</th>\n",
       "      <td>Adelie</td>\n",
       "      <td>Torgersen</td>\n",
       "      <td>NaN</td>\n",
       "      <td>NaN</td>\n",
       "      <td>NaN</td>\n",
       "      <td>NaN</td>\n",
       "      <td>NaN</td>\n",
       "      <td>2007</td>\n",
       "    </tr>\n",
       "    <tr>\n",
       "      <th>4</th>\n",
       "      <td>Adelie</td>\n",
       "      <td>Torgersen</td>\n",
       "      <td>36.7</td>\n",
       "      <td>19.3</td>\n",
       "      <td>193.0</td>\n",
       "      <td>3450.0</td>\n",
       "      <td>female</td>\n",
       "      <td>2007</td>\n",
       "    </tr>\n",
       "  </tbody>\n",
       "</table>\n",
       "</div>"
      ],
      "text/plain": [
       "  species     island  bill_length_mm  bill_depth_mm  flipper_length_mm  \\\n",
       "0  Adelie  Torgersen            39.1           18.7              181.0   \n",
       "1  Adelie  Torgersen            39.5           17.4              186.0   \n",
       "2  Adelie  Torgersen            40.3           18.0              195.0   \n",
       "3  Adelie  Torgersen             NaN            NaN                NaN   \n",
       "4  Adelie  Torgersen            36.7           19.3              193.0   \n",
       "\n",
       "   body_mass_g     sex  year  \n",
       "0       3750.0    male  2007  \n",
       "1       3800.0  female  2007  \n",
       "2       3250.0  female  2007  \n",
       "3          NaN     NaN  2007  \n",
       "4       3450.0  female  2007  "
      ]
     },
     "execution_count": 3,
     "metadata": {},
     "output_type": "execute_result"
    }
   ],
   "source": [
    "penguins.head()\n",
    "#df['new_col_name'] = new_column_values"
   ]
  },
  {
   "cell_type": "code",
   "execution_count": null,
   "id": "a11c7b9b-530c-4e07-bebd-231fe1b2174f",
   "metadata": {},
   "outputs": [],
   "source": [
    "# Add a new key-value pair to a dictionary\n",
    "dict[new_key] = new_value"
   ]
  },
  {
   "cell_type": "code",
   "execution_count": 4,
   "id": "5359dfdd-dc5e-4b5e-af56-b94facc4f253",
   "metadata": {},
   "outputs": [
    {
     "name": "stdout",
     "output_type": "stream",
     "text": [
      "True\n"
     ]
    },
    {
     "data": {
      "text/html": [
       "<div>\n",
       "<style scoped>\n",
       "    .dataframe tbody tr th:only-of-type {\n",
       "        vertical-align: middle;\n",
       "    }\n",
       "\n",
       "    .dataframe tbody tr th {\n",
       "        vertical-align: top;\n",
       "    }\n",
       "\n",
       "    .dataframe thead th {\n",
       "        text-align: right;\n",
       "    }\n",
       "</style>\n",
       "<table border=\"1\" class=\"dataframe\">\n",
       "  <thead>\n",
       "    <tr style=\"text-align: right;\">\n",
       "      <th></th>\n",
       "      <th>species</th>\n",
       "      <th>island</th>\n",
       "      <th>bill_length_mm</th>\n",
       "      <th>bill_depth_mm</th>\n",
       "      <th>flipper_length_mm</th>\n",
       "      <th>body_mass_g</th>\n",
       "      <th>sex</th>\n",
       "      <th>year</th>\n",
       "      <th>body_mass_kg</th>\n",
       "    </tr>\n",
       "  </thead>\n",
       "  <tbody>\n",
       "    <tr>\n",
       "      <th>0</th>\n",
       "      <td>Adelie</td>\n",
       "      <td>Torgersen</td>\n",
       "      <td>39.1</td>\n",
       "      <td>18.7</td>\n",
       "      <td>181.0</td>\n",
       "      <td>3750.0</td>\n",
       "      <td>male</td>\n",
       "      <td>2007</td>\n",
       "      <td>3.75</td>\n",
       "    </tr>\n",
       "    <tr>\n",
       "      <th>1</th>\n",
       "      <td>Adelie</td>\n",
       "      <td>Torgersen</td>\n",
       "      <td>39.5</td>\n",
       "      <td>17.4</td>\n",
       "      <td>186.0</td>\n",
       "      <td>3800.0</td>\n",
       "      <td>female</td>\n",
       "      <td>2007</td>\n",
       "      <td>3.80</td>\n",
       "    </tr>\n",
       "    <tr>\n",
       "      <th>2</th>\n",
       "      <td>Adelie</td>\n",
       "      <td>Torgersen</td>\n",
       "      <td>40.3</td>\n",
       "      <td>18.0</td>\n",
       "      <td>195.0</td>\n",
       "      <td>3250.0</td>\n",
       "      <td>female</td>\n",
       "      <td>2007</td>\n",
       "      <td>3.25</td>\n",
       "    </tr>\n",
       "    <tr>\n",
       "      <th>3</th>\n",
       "      <td>Adelie</td>\n",
       "      <td>Torgersen</td>\n",
       "      <td>NaN</td>\n",
       "      <td>NaN</td>\n",
       "      <td>NaN</td>\n",
       "      <td>NaN</td>\n",
       "      <td>NaN</td>\n",
       "      <td>2007</td>\n",
       "      <td>NaN</td>\n",
       "    </tr>\n",
       "    <tr>\n",
       "      <th>4</th>\n",
       "      <td>Adelie</td>\n",
       "      <td>Torgersen</td>\n",
       "      <td>36.7</td>\n",
       "      <td>19.3</td>\n",
       "      <td>193.0</td>\n",
       "      <td>3450.0</td>\n",
       "      <td>female</td>\n",
       "      <td>2007</td>\n",
       "      <td>3.45</td>\n",
       "    </tr>\n",
       "  </tbody>\n",
       "</table>\n",
       "</div>"
      ],
      "text/plain": [
       "  species     island  bill_length_mm  bill_depth_mm  flipper_length_mm  \\\n",
       "0  Adelie  Torgersen            39.1           18.7              181.0   \n",
       "1  Adelie  Torgersen            39.5           17.4              186.0   \n",
       "2  Adelie  Torgersen            40.3           18.0              195.0   \n",
       "3  Adelie  Torgersen             NaN            NaN                NaN   \n",
       "4  Adelie  Torgersen            36.7           19.3              193.0   \n",
       "\n",
       "   body_mass_g     sex  year  body_mass_kg  \n",
       "0       3750.0    male  2007          3.75  \n",
       "1       3800.0  female  2007          3.80  \n",
       "2       3250.0  female  2007          3.25  \n",
       "3          NaN     NaN  2007           NaN  \n",
       "4       3450.0  female  2007          3.45  "
      ]
     },
     "execution_count": 4,
     "metadata": {},
     "output_type": "execute_result"
    }
   ],
   "source": [
    "# Add new column body_mass_kg \n",
    "penguins['body_mass_kg'] = penguins['body_mass_g']/1000\n",
    "\n",
    "# Confirm the new column is in the data frame\n",
    "print(\"body_mass_kg\" in penguins.columns) # to double check and makinging it clear by using in\n",
    "\n",
    "# Look at the new column\n",
    "penguins.head()"
   ]
  },
  {
   "cell_type": "code",
   "execution_count": 7,
   "id": "67b4ab77-7f30-4520-a1a5-61bde2051031",
   "metadata": {
    "tags": []
   },
   "outputs": [],
   "source": [
    "# Create random 3-digit codes\n",
    "codes = random.sample(range(100,1000), len(penguins)) # Sampling w/o replacement\n",
    "#codes"
   ]
  },
  {
   "cell_type": "code",
   "execution_count": 9,
   "id": "defff5fa-147e-4085-893e-0b15dd3ee2f4",
   "metadata": {
    "tags": []
   },
   "outputs": [
    {
     "data": {
      "text/plain": [
       "list"
      ]
     },
     "execution_count": 9,
     "metadata": {},
     "output_type": "execute_result"
    }
   ],
   "source": [
    "type(codes)"
   ]
  },
  {
   "cell_type": "code",
   "execution_count": 17,
   "id": "f79f0c7e-51e8-437f-9a60-5b9115405f02",
   "metadata": {
    "tags": []
   },
   "outputs": [
    {
     "data": {
      "text/html": [
       "<div>\n",
       "<style scoped>\n",
       "    .dataframe tbody tr th:only-of-type {\n",
       "        vertical-align: middle;\n",
       "    }\n",
       "\n",
       "    .dataframe tbody tr th {\n",
       "        vertical-align: top;\n",
       "    }\n",
       "\n",
       "    .dataframe thead th {\n",
       "        text-align: right;\n",
       "    }\n",
       "</style>\n",
       "<table border=\"1\" class=\"dataframe\">\n",
       "  <thead>\n",
       "    <tr style=\"text-align: right;\">\n",
       "      <th></th>\n",
       "      <th>id_code</th>\n",
       "      <th>species</th>\n",
       "      <th>island</th>\n",
       "      <th>bill_length_mm</th>\n",
       "      <th>bill_depth_mm</th>\n",
       "      <th>flipper_length_mm</th>\n",
       "      <th>body_mass_g</th>\n",
       "      <th>sex</th>\n",
       "      <th>year</th>\n",
       "      <th>body_mass_kg</th>\n",
       "    </tr>\n",
       "    <tr>\n",
       "      <th>id_code</th>\n",
       "      <th></th>\n",
       "      <th></th>\n",
       "      <th></th>\n",
       "      <th></th>\n",
       "      <th></th>\n",
       "      <th></th>\n",
       "      <th></th>\n",
       "      <th></th>\n",
       "      <th></th>\n",
       "      <th></th>\n",
       "    </tr>\n",
       "  </thead>\n",
       "  <tbody>\n",
       "    <tr>\n",
       "      <th>367</th>\n",
       "      <td>367</td>\n",
       "      <td>Adelie</td>\n",
       "      <td>Torgersen</td>\n",
       "      <td>39.1</td>\n",
       "      <td>18.7</td>\n",
       "      <td>181.0</td>\n",
       "      <td>3750.0</td>\n",
       "      <td>male</td>\n",
       "      <td>2007</td>\n",
       "      <td>3.75</td>\n",
       "    </tr>\n",
       "    <tr>\n",
       "      <th>309</th>\n",
       "      <td>309</td>\n",
       "      <td>Adelie</td>\n",
       "      <td>Torgersen</td>\n",
       "      <td>39.5</td>\n",
       "      <td>17.4</td>\n",
       "      <td>186.0</td>\n",
       "      <td>3800.0</td>\n",
       "      <td>female</td>\n",
       "      <td>2007</td>\n",
       "      <td>3.80</td>\n",
       "    </tr>\n",
       "    <tr>\n",
       "      <th>785</th>\n",
       "      <td>785</td>\n",
       "      <td>Adelie</td>\n",
       "      <td>Torgersen</td>\n",
       "      <td>40.3</td>\n",
       "      <td>18.0</td>\n",
       "      <td>195.0</td>\n",
       "      <td>3250.0</td>\n",
       "      <td>female</td>\n",
       "      <td>2007</td>\n",
       "      <td>3.25</td>\n",
       "    </tr>\n",
       "    <tr>\n",
       "      <th>833</th>\n",
       "      <td>833</td>\n",
       "      <td>Adelie</td>\n",
       "      <td>Torgersen</td>\n",
       "      <td>NaN</td>\n",
       "      <td>NaN</td>\n",
       "      <td>NaN</td>\n",
       "      <td>NaN</td>\n",
       "      <td>NaN</td>\n",
       "      <td>2007</td>\n",
       "      <td>NaN</td>\n",
       "    </tr>\n",
       "    <tr>\n",
       "      <th>421</th>\n",
       "      <td>421</td>\n",
       "      <td>Adelie</td>\n",
       "      <td>Torgersen</td>\n",
       "      <td>36.7</td>\n",
       "      <td>19.3</td>\n",
       "      <td>193.0</td>\n",
       "      <td>3450.0</td>\n",
       "      <td>female</td>\n",
       "      <td>2007</td>\n",
       "      <td>3.45</td>\n",
       "    </tr>\n",
       "  </tbody>\n",
       "</table>\n",
       "</div>"
      ],
      "text/plain": [
       "         id_code species     island  bill_length_mm  bill_depth_mm  \\\n",
       "id_code                                                              \n",
       "367          367  Adelie  Torgersen            39.1           18.7   \n",
       "309          309  Adelie  Torgersen            39.5           17.4   \n",
       "785          785  Adelie  Torgersen            40.3           18.0   \n",
       "833          833  Adelie  Torgersen             NaN            NaN   \n",
       "421          421  Adelie  Torgersen            36.7           19.3   \n",
       "\n",
       "         flipper_length_mm  body_mass_g     sex  year  body_mass_kg  \n",
       "id_code                                                              \n",
       "367                  181.0       3750.0    male  2007          3.75  \n",
       "309                  186.0       3800.0  female  2007          3.80  \n",
       "785                  195.0       3250.0  female  2007          3.25  \n",
       "833                    NaN          NaN     NaN  2007           NaN  \n",
       "421                  193.0       3450.0  female  2007          3.45  "
      ]
     },
     "execution_count": 17,
     "metadata": {},
     "output_type": "execute_result"
    }
   ],
   "source": [
    "# Insert codes at the front of data frame\n",
    "penguins.insert(loc=0,  # Index\n",
    "                column='id_code',\n",
    "                value=codes)\n",
    "penguins.head()"
   ]
  },
  {
   "cell_type": "markdown",
   "id": "bd23bf6c-017f-4cbf-92b3-b02ba60860bf",
   "metadata": {},
   "source": [
    "## A single value\n",
    "Acessing a single value in a panads datframe using locators\n",
    "at[]\n",
    "iat[]\n",
    "\n",
    "sytax\n",
    "df.at single_index_values. 'column_name']\n",
    "\n",
    "at[] equivialnt of loc[] when accessing a single value\n",
    "\n",
    "## Example"
   ]
  },
  {
   "cell_type": "code",
   "execution_count": 18,
   "id": "b8d64462-be16-4cc7-8a47-caae37c80096",
   "metadata": {
    "tags": []
   },
   "outputs": [
    {
     "data": {
      "text/html": [
       "<div>\n",
       "<style scoped>\n",
       "    .dataframe tbody tr th:only-of-type {\n",
       "        vertical-align: middle;\n",
       "    }\n",
       "\n",
       "    .dataframe tbody tr th {\n",
       "        vertical-align: top;\n",
       "    }\n",
       "\n",
       "    .dataframe thead th {\n",
       "        text-align: right;\n",
       "    }\n",
       "</style>\n",
       "<table border=\"1\" class=\"dataframe\">\n",
       "  <thead>\n",
       "    <tr style=\"text-align: right;\">\n",
       "      <th></th>\n",
       "      <th>species</th>\n",
       "      <th>island</th>\n",
       "      <th>bill_length_mm</th>\n",
       "      <th>bill_depth_mm</th>\n",
       "      <th>flipper_length_mm</th>\n",
       "      <th>body_mass_g</th>\n",
       "      <th>sex</th>\n",
       "      <th>year</th>\n",
       "      <th>body_mass_kg</th>\n",
       "    </tr>\n",
       "    <tr>\n",
       "      <th>id_code</th>\n",
       "      <th></th>\n",
       "      <th></th>\n",
       "      <th></th>\n",
       "      <th></th>\n",
       "      <th></th>\n",
       "      <th></th>\n",
       "      <th></th>\n",
       "      <th></th>\n",
       "      <th></th>\n",
       "    </tr>\n",
       "  </thead>\n",
       "  <tbody>\n",
       "    <tr>\n",
       "      <th>367</th>\n",
       "      <td>Adelie</td>\n",
       "      <td>Torgersen</td>\n",
       "      <td>39.1</td>\n",
       "      <td>18.7</td>\n",
       "      <td>181.0</td>\n",
       "      <td>3750.0</td>\n",
       "      <td>male</td>\n",
       "      <td>2007</td>\n",
       "      <td>3.750</td>\n",
       "    </tr>\n",
       "    <tr>\n",
       "      <th>309</th>\n",
       "      <td>Adelie</td>\n",
       "      <td>Torgersen</td>\n",
       "      <td>39.5</td>\n",
       "      <td>17.4</td>\n",
       "      <td>186.0</td>\n",
       "      <td>3800.0</td>\n",
       "      <td>female</td>\n",
       "      <td>2007</td>\n",
       "      <td>3.800</td>\n",
       "    </tr>\n",
       "    <tr>\n",
       "      <th>785</th>\n",
       "      <td>Adelie</td>\n",
       "      <td>Torgersen</td>\n",
       "      <td>40.3</td>\n",
       "      <td>18.0</td>\n",
       "      <td>195.0</td>\n",
       "      <td>3250.0</td>\n",
       "      <td>female</td>\n",
       "      <td>2007</td>\n",
       "      <td>3.250</td>\n",
       "    </tr>\n",
       "    <tr>\n",
       "      <th>833</th>\n",
       "      <td>Adelie</td>\n",
       "      <td>Torgersen</td>\n",
       "      <td>NaN</td>\n",
       "      <td>NaN</td>\n",
       "      <td>NaN</td>\n",
       "      <td>NaN</td>\n",
       "      <td>NaN</td>\n",
       "      <td>2007</td>\n",
       "      <td>NaN</td>\n",
       "    </tr>\n",
       "    <tr>\n",
       "      <th>421</th>\n",
       "      <td>Adelie</td>\n",
       "      <td>Torgersen</td>\n",
       "      <td>36.7</td>\n",
       "      <td>19.3</td>\n",
       "      <td>193.0</td>\n",
       "      <td>3450.0</td>\n",
       "      <td>female</td>\n",
       "      <td>2007</td>\n",
       "      <td>3.450</td>\n",
       "    </tr>\n",
       "    <tr>\n",
       "      <th>...</th>\n",
       "      <td>...</td>\n",
       "      <td>...</td>\n",
       "      <td>...</td>\n",
       "      <td>...</td>\n",
       "      <td>...</td>\n",
       "      <td>...</td>\n",
       "      <td>...</td>\n",
       "      <td>...</td>\n",
       "      <td>...</td>\n",
       "    </tr>\n",
       "    <tr>\n",
       "      <th>578</th>\n",
       "      <td>Chinstrap</td>\n",
       "      <td>Dream</td>\n",
       "      <td>55.8</td>\n",
       "      <td>19.8</td>\n",
       "      <td>207.0</td>\n",
       "      <td>4000.0</td>\n",
       "      <td>male</td>\n",
       "      <td>2009</td>\n",
       "      <td>4.000</td>\n",
       "    </tr>\n",
       "    <tr>\n",
       "      <th>844</th>\n",
       "      <td>Chinstrap</td>\n",
       "      <td>Dream</td>\n",
       "      <td>43.5</td>\n",
       "      <td>18.1</td>\n",
       "      <td>202.0</td>\n",
       "      <td>3400.0</td>\n",
       "      <td>female</td>\n",
       "      <td>2009</td>\n",
       "      <td>3.400</td>\n",
       "    </tr>\n",
       "    <tr>\n",
       "      <th>646</th>\n",
       "      <td>Chinstrap</td>\n",
       "      <td>Dream</td>\n",
       "      <td>49.6</td>\n",
       "      <td>18.2</td>\n",
       "      <td>193.0</td>\n",
       "      <td>3775.0</td>\n",
       "      <td>male</td>\n",
       "      <td>2009</td>\n",
       "      <td>3.775</td>\n",
       "    </tr>\n",
       "    <tr>\n",
       "      <th>127</th>\n",
       "      <td>Chinstrap</td>\n",
       "      <td>Dream</td>\n",
       "      <td>38.3</td>\n",
       "      <td>19.0</td>\n",
       "      <td>210.0</td>\n",
       "      <td>4100.0</td>\n",
       "      <td>male</td>\n",
       "      <td>2009</td>\n",
       "      <td>4.100</td>\n",
       "    </tr>\n",
       "    <tr>\n",
       "      <th>503</th>\n",
       "      <td>Chinstrap</td>\n",
       "      <td>Dream</td>\n",
       "      <td>50.2</td>\n",
       "      <td>18.7</td>\n",
       "      <td>198.0</td>\n",
       "      <td>3775.0</td>\n",
       "      <td>female</td>\n",
       "      <td>2009</td>\n",
       "      <td>3.775</td>\n",
       "    </tr>\n",
       "  </tbody>\n",
       "</table>\n",
       "<p>344 rows × 9 columns</p>\n",
       "</div>"
      ],
      "text/plain": [
       "           species     island  bill_length_mm  bill_depth_mm  \\\n",
       "id_code                                                        \n",
       "367         Adelie  Torgersen            39.1           18.7   \n",
       "309         Adelie  Torgersen            39.5           17.4   \n",
       "785         Adelie  Torgersen            40.3           18.0   \n",
       "833         Adelie  Torgersen             NaN            NaN   \n",
       "421         Adelie  Torgersen            36.7           19.3   \n",
       "...            ...        ...             ...            ...   \n",
       "578      Chinstrap      Dream            55.8           19.8   \n",
       "844      Chinstrap      Dream            43.5           18.1   \n",
       "646      Chinstrap      Dream            49.6           18.2   \n",
       "127      Chinstrap      Dream            38.3           19.0   \n",
       "503      Chinstrap      Dream            50.2           18.7   \n",
       "\n",
       "         flipper_length_mm  body_mass_g     sex  year  body_mass_kg  \n",
       "id_code                                                              \n",
       "367                  181.0       3750.0    male  2007         3.750  \n",
       "309                  186.0       3800.0  female  2007         3.800  \n",
       "785                  195.0       3250.0  female  2007         3.250  \n",
       "833                    NaN          NaN     NaN  2007           NaN  \n",
       "421                  193.0       3450.0  female  2007         3.450  \n",
       "...                    ...          ...     ...   ...           ...  \n",
       "578                  207.0       4000.0    male  2009         4.000  \n",
       "844                  202.0       3400.0  female  2009         3.400  \n",
       "646                  193.0       3775.0    male  2009         3.775  \n",
       "127                  210.0       4100.0    male  2009         4.100  \n",
       "503                  198.0       3775.0  female  2009         3.775  \n",
       "\n",
       "[344 rows x 9 columns]"
      ]
     },
     "execution_count": 18,
     "metadata": {},
     "output_type": "execute_result"
    }
   ],
   "source": [
    "penguins = penguins.set_index('id_code')\n",
    "penguins\n",
    "\n",
    "# not modifing the data \n"
   ]
  },
  {
   "cell_type": "code",
   "execution_count": 19,
   "id": "94c3c83a-d676-4018-a3c3-bd7aa1c54443",
   "metadata": {},
   "outputs": [
    {
     "data": {
      "text/plain": [
       "nan"
      ]
     },
     "execution_count": 19,
     "metadata": {},
     "output_type": "execute_result"
    }
   ],
   "source": [
    "# Check bill length of penguin with ID 859\n",
    "penguins.at[833, 'bill_length_mm']"
   ]
  },
  {
   "cell_type": "code",
   "execution_count": 20,
   "id": "f2b79eca-7a20-457a-a633-287e99032a56",
   "metadata": {
    "tags": []
   },
   "outputs": [
    {
     "data": {
      "text/plain": [
       "species                 Adelie\n",
       "island               Torgersen\n",
       "bill_length_mm            38.3\n",
       "bill_depth_mm              NaN\n",
       "flipper_length_mm          NaN\n",
       "body_mass_g                NaN\n",
       "sex                        NaN\n",
       "year                      2007\n",
       "body_mass_kg               NaN\n",
       "Name: 833, dtype: object"
      ]
     },
     "execution_count": 20,
     "metadata": {},
     "output_type": "execute_result"
    }
   ],
   "source": [
    "# Correct bill length of pengins with ID 127\n",
    "penguins.at[833, 'bill_length_mm'] = 38.3\n",
    "\n",
    "# Confirm values was updated\n",
    "penguins.loc[833]"
   ]
  },
  {
   "cell_type": "markdown",
   "id": "4529932f-a59d-42a5-baa6-ddb6704bf576",
   "metadata": {},
   "source": [
    "If we want to access or update a single value by index position we ust `iat[]` locator:\n",
    "\n",
    "Sytax:\n",
    "```\n",
    "df.iat[index_integer_location, column_integer_location]\n",
    "```\n",
    "Dynamically get the location of single column\n",
    "\n",
    "```\n",
    "df.column.get_loc('column_name')\n",
    "```\n",
    "# Check-in\n",
    "a obtain the location of the `bill_length_mm` column programtically\n",
    "b. Use `iat[]` to access the bil length for the penguins with ID 127 (you may have a different ID) and reer it back to NA. Confirm the changes in your favite way."
   ]
  },
  {
   "cell_type": "code",
   "execution_count": 24,
   "id": "ef248520-a406-4505-bf8e-074489f86426",
   "metadata": {
    "tags": []
   },
   "outputs": [
    {
     "data": {
      "text/plain": [
       "38.3"
      ]
     },
     "execution_count": 24,
     "metadata": {},
     "output_type": "execute_result"
    }
   ],
   "source": [
    "#penguins.iat[3,bill_length_index]"
   ]
  },
  {
   "cell_type": "code",
   "execution_count": 25,
   "id": "65a0dba4-daa8-4188-8645-829a1afd63d7",
   "metadata": {
    "tags": []
   },
   "outputs": [
    {
     "data": {
      "text/plain": [
       "species                 Adelie\n",
       "island               Torgersen\n",
       "bill_length_mm             NaN\n",
       "bill_depth_mm              NaN\n",
       "flipper_length_mm          NaN\n",
       "body_mass_g                NaN\n",
       "sex                        NaN\n",
       "year                      2007\n",
       "body_mass_kg               NaN\n",
       "Name: 833, dtype: object"
      ]
     },
     "execution_count": 25,
     "metadata": {},
     "output_type": "execute_result"
    }
   ],
   "source": [
    "# Set to NAN using iat\n",
    "bill_length_index = penguins.columns.get_loc('bill_length_mm') # checking column names and the checking the index its in\n",
    "penguins.iat[3,bill_length_index] = np.nan\n",
    "penguins.iloc[3]"
   ]
  },
  {
   "cell_type": "markdown",
   "id": "820ad2a0-23da-4c4f-9665-5c52d38c69e3",
   "metadata": {},
   "source": [
    "## Multiple values in a column\n",
    "\n",
    "### Using a conditons\n",
    "\n",
    "Example:\n",
    "\n",
    "We want to classify the Palmer penguins such that:\n",
    "\n",
    "- penguins with body mass < 3kg are small\n",
    "- penguins with 3kg <= body mass < 5kg are medium\n",
    "- penguins with 5kg < body mass are large"
   ]
  },
  {
   "cell_type": "code",
   "execution_count": 27,
   "id": "8a8279eb-8057-4179-a77c-80454f914e1f",
   "metadata": {
    "tags": []
   },
   "outputs": [
    {
     "data": {
      "text/html": [
       "<div>\n",
       "<style scoped>\n",
       "    .dataframe tbody tr th:only-of-type {\n",
       "        vertical-align: middle;\n",
       "    }\n",
       "\n",
       "    .dataframe tbody tr th {\n",
       "        vertical-align: top;\n",
       "    }\n",
       "\n",
       "    .dataframe thead th {\n",
       "        text-align: right;\n",
       "    }\n",
       "</style>\n",
       "<table border=\"1\" class=\"dataframe\">\n",
       "  <thead>\n",
       "    <tr style=\"text-align: right;\">\n",
       "      <th></th>\n",
       "      <th>species</th>\n",
       "      <th>island</th>\n",
       "      <th>bill_length_mm</th>\n",
       "      <th>bill_depth_mm</th>\n",
       "      <th>flipper_length_mm</th>\n",
       "      <th>body_mass_g</th>\n",
       "      <th>sex</th>\n",
       "      <th>year</th>\n",
       "      <th>body_mass_kg</th>\n",
       "      <th>size</th>\n",
       "    </tr>\n",
       "    <tr>\n",
       "      <th>id_code</th>\n",
       "      <th></th>\n",
       "      <th></th>\n",
       "      <th></th>\n",
       "      <th></th>\n",
       "      <th></th>\n",
       "      <th></th>\n",
       "      <th></th>\n",
       "      <th></th>\n",
       "      <th></th>\n",
       "      <th></th>\n",
       "    </tr>\n",
       "  </thead>\n",
       "  <tbody>\n",
       "    <tr>\n",
       "      <th>367</th>\n",
       "      <td>Adelie</td>\n",
       "      <td>Torgersen</td>\n",
       "      <td>39.1</td>\n",
       "      <td>18.7</td>\n",
       "      <td>181.0</td>\n",
       "      <td>3750.0</td>\n",
       "      <td>male</td>\n",
       "      <td>2007</td>\n",
       "      <td>3.75</td>\n",
       "      <td>medium</td>\n",
       "    </tr>\n",
       "    <tr>\n",
       "      <th>309</th>\n",
       "      <td>Adelie</td>\n",
       "      <td>Torgersen</td>\n",
       "      <td>39.5</td>\n",
       "      <td>17.4</td>\n",
       "      <td>186.0</td>\n",
       "      <td>3800.0</td>\n",
       "      <td>female</td>\n",
       "      <td>2007</td>\n",
       "      <td>3.80</td>\n",
       "      <td>medium</td>\n",
       "    </tr>\n",
       "    <tr>\n",
       "      <th>785</th>\n",
       "      <td>Adelie</td>\n",
       "      <td>Torgersen</td>\n",
       "      <td>40.3</td>\n",
       "      <td>18.0</td>\n",
       "      <td>195.0</td>\n",
       "      <td>3250.0</td>\n",
       "      <td>female</td>\n",
       "      <td>2007</td>\n",
       "      <td>3.25</td>\n",
       "      <td>medium</td>\n",
       "    </tr>\n",
       "    <tr>\n",
       "      <th>833</th>\n",
       "      <td>Adelie</td>\n",
       "      <td>Torgersen</td>\n",
       "      <td>NaN</td>\n",
       "      <td>NaN</td>\n",
       "      <td>NaN</td>\n",
       "      <td>NaN</td>\n",
       "      <td>NaN</td>\n",
       "      <td>2007</td>\n",
       "      <td>NaN</td>\n",
       "      <td>nan</td>\n",
       "    </tr>\n",
       "    <tr>\n",
       "      <th>421</th>\n",
       "      <td>Adelie</td>\n",
       "      <td>Torgersen</td>\n",
       "      <td>36.7</td>\n",
       "      <td>19.3</td>\n",
       "      <td>193.0</td>\n",
       "      <td>3450.0</td>\n",
       "      <td>female</td>\n",
       "      <td>2007</td>\n",
       "      <td>3.45</td>\n",
       "      <td>medium</td>\n",
       "    </tr>\n",
       "  </tbody>\n",
       "</table>\n",
       "</div>"
      ],
      "text/plain": [
       "        species     island  bill_length_mm  bill_depth_mm  flipper_length_mm  \\\n",
       "id_code                                                                        \n",
       "367      Adelie  Torgersen            39.1           18.7              181.0   \n",
       "309      Adelie  Torgersen            39.5           17.4              186.0   \n",
       "785      Adelie  Torgersen            40.3           18.0              195.0   \n",
       "833      Adelie  Torgersen             NaN            NaN                NaN   \n",
       "421      Adelie  Torgersen            36.7           19.3              193.0   \n",
       "\n",
       "         body_mass_g     sex  year  body_mass_kg    size  \n",
       "id_code                                                   \n",
       "367           3750.0    male  2007          3.75  medium  \n",
       "309           3800.0  female  2007          3.80  medium  \n",
       "785           3250.0  female  2007          3.25  medium  \n",
       "833              NaN     NaN  2007           NaN     nan  \n",
       "421           3450.0  female  2007          3.45  medium  "
      ]
     },
     "execution_count": 27,
     "metadata": {},
     "output_type": "execute_result"
    }
   ],
   "source": [
    "# Create a list with the conditions\n",
    "conditions = [penguins.body_mass_kg < 3, \n",
    "              (3 <= penguins.body_mass_kg) & (penguins.body_mass_kg < 5),\n",
    "              5 <= penguins.body_mass_kg]\n",
    "\n",
    "# Create a list with the choices\n",
    "choices = [\"small\",\n",
    "           \"medium\",\n",
    "           \"large\"]\n",
    "\n",
    "# Add the selections using np.select\n",
    "penguins['size'] = np.select(conditions, \n",
    "                             choices, \n",
    "                             default=np.nan) # Value for anything outside conditions\n",
    "\n",
    "# Display the updated data frame to confirm the new column\n",
    "penguins.head()"
   ]
  },
  {
   "cell_type": "markdown",
   "id": "53981ab0-9c3e-4772-9822-e32b76dda369",
   "metadata": {},
   "source": [
    "## Update values by selecting them\n",
    "\n",
    "We can do this with `loc` or `iloc` and assigning new values\n",
    "\n",
    "Syntax:\n",
    "```\n",
    "df.loc[row_selection, column_name] = new_values\n",
    "```\n",
    "\n",
    "Using `loc[]` in assignment modifies the data frame directly without the need for reassignment."
   ]
  },
  {
   "cell_type": "code",
   "execution_count": 28,
   "id": "0978cc8a-ebad-4eb1-9584-5711a7353040",
   "metadata": {
    "tags": []
   },
   "outputs": [
    {
     "name": "stdout",
     "output_type": "stream",
     "text": [
      "['M' 'female' nan]\n"
     ]
    }
   ],
   "source": [
    "# Select rows with sex=male and simplify values in 'sex' column\n",
    "penguins.loc[penguins.sex=='male', 'sex'] = 'M' # modiefied to be the string M\n",
    "\n",
    "# Check changes in 'sex' column specifically to avoid printing the whole dataframe\n",
    "print(penguins.sex.unique())\n",
    "#print(penguins['sex'].unique())"
   ]
  },
  {
   "cell_type": "markdown",
   "id": "fb387625-e61b-49c6-83b1-260a45173ea6",
   "metadata": {
    "jupyter": {
     "source_hidden": true
    },
    "tags": []
   },
   "source": [
    "### Best practices\n",
    "\n",
    "We want to update the 'female' values in 'sex' columns' to 'F'"
   ]
  },
  {
   "cell_type": "code",
   "execution_count": 29,
   "id": "76b39960-2cc8-4653-903e-4af8636df131",
   "metadata": {
    "tags": []
   },
   "outputs": [
    {
     "name": "stderr",
     "output_type": "stream",
     "text": [
      "/tmp/ipykernel_1046357/534867616.py:2: SettingWithCopyWarning: \n",
      "A value is trying to be set on a copy of a slice from a DataFrame.\n",
      "Try using .loc[row_indexer,col_indexer] = value instead\n",
      "\n",
      "See the caveats in the documentation: https://pandas.pydata.org/pandas-docs/stable/user_guide/indexing.html#returning-a-view-versus-a-copy\n",
      "  penguins[penguins.sex=='female']['sex'] = 'F' # This raises SettingWithCopyWarning\n"
     ]
    }
   ],
   "source": [
    "# Select rows where 'sex' is 'female' and then attempt to update 'sex' column values\n",
    "penguins[penguins.sex=='female']['sex'] = 'F' # This raises SettingWithCopyWarning\n",
    "\n",
    "#[penguins.sex=='female']['sex'] the [][] is chained indexing "
   ]
  },
  {
   "cell_type": "markdown",
   "id": "f46718c0-0d3f-453c-be12-8ef4983a563f",
   "metadata": {},
   "source": [
    " Avoid chained indecing [][] and use.loc instead this warninghappend fernally when we have hainde indecing\n",
    "    df[row_selection][column_selction] = new value"
   ]
  },
  {
   "cell_type": "markdown",
   "id": "4699274d-1fa8-41ba-8b39-dd6e8a649555",
   "metadata": {},
   "source": [
    "## Check-in\n",
    "Update the 'female' values without the warning and check that the values are updated."
   ]
  },
  {
   "cell_type": "code",
   "execution_count": 30,
   "id": "5af0af3a-e13a-4bef-8fa9-aa3019a634a5",
   "metadata": {
    "tags": []
   },
   "outputs": [
    {
     "data": {
      "text/plain": [
       "array(['M', 'female', nan], dtype=object)"
      ]
     },
     "execution_count": 30,
     "metadata": {},
     "output_type": "execute_result"
    }
   ],
   "source": [
    "# Select rows with sex=female and simplify values in 'sex' column\n",
    "penguins.loc[penguins.sex=='male', 'sex'] = 'M'\n",
    "\n",
    "penguins.sex.unique()"
   ]
  },
  {
   "cell_type": "markdown",
   "id": "af400f29-8af7-4b6d-afbd-6b4078a90657",
   "metadata": {},
   "source": [
    "This warning comes up because some `pandas` operations return a view, and other return a copy of your data.\n",
    "\n",
    "- **Views**: actual subsets of the original data, when we update them, we are modifiying the original data frame.\n",
    "\n",
    "- **Copies**: unique objects, independent of our original data frames. When we update a copy we are not modifying the original data frame.\n",
    "\n",
    "## Example \n",
    "We only want to use data from Biscoe island, after doing some anlyses, we want to add a new column."
   ]
  },
  {
   "cell_type": "code",
   "execution_count": 32,
   "id": "c5072e84-38d5-4e1a-ad65-75700a240978",
   "metadata": {
    "tags": []
   },
   "outputs": [
    {
     "name": "stderr",
     "output_type": "stream",
     "text": [
      "/tmp/ipykernel_1046357/2215294278.py:7: SettingWithCopyWarning: \n",
      "A value is trying to be set on a copy of a slice from a DataFrame.\n",
      "Try using .loc[row_indexer,col_indexer] = value instead\n",
      "\n",
      "See the caveats in the documentation: https://pandas.pydata.org/pandas-docs/stable/user_guide/indexing.html#returning-a-view-versus-a-copy\n",
      "  biscoe['sample_col'] = 100  # This raises SettingWithCopyWarning\n"
     ]
    }
   ],
   "source": [
    "# Select penguins from Biscoe island\n",
    "biscoe = penguins[penguins.island == 'Biscoe']\n",
    "\n",
    "# ... Other analyses ... this is still a chaining indexing\n",
    "\n",
    "# Add a column\n",
    "biscoe['sample_col'] = 100  # This raises SettingWithCopyWarning"
   ]
  },
  {
   "cell_type": "markdown",
   "id": "9b254230-fc05-4c71-8a63-35d06d5eb2dd",
   "metadata": {},
   "source": [
    "We can also explicity as for a copy of a the datset when subsetting using the `copy()` method."
   ]
  },
  {
   "cell_type": "code",
   "execution_count": 33,
   "id": "9fa20893-6251-4cd5-a316-1ebc8d50b8e6",
   "metadata": {
    "tags": []
   },
   "outputs": [],
   "source": [
    "# Make sure you get an independent data frame that won't alter the original\n",
    "biscoe = penguins[penguins.island=='Biscoe'].copy()\n",
    "\n",
    "# Add a column, no warning\n",
    "biscoe['sample_col'] = 100"
   ]
  },
  {
   "cell_type": "code",
   "execution_count": 34,
   "id": "b8794ab9-f519-489c-8ac9-49864ed5f432",
   "metadata": {
    "tags": []
   },
   "outputs": [
    {
     "data": {
      "text/html": [
       "<div>\n",
       "<style scoped>\n",
       "    .dataframe tbody tr th:only-of-type {\n",
       "        vertical-align: middle;\n",
       "    }\n",
       "\n",
       "    .dataframe tbody tr th {\n",
       "        vertical-align: top;\n",
       "    }\n",
       "\n",
       "    .dataframe thead th {\n",
       "        text-align: right;\n",
       "    }\n",
       "</style>\n",
       "<table border=\"1\" class=\"dataframe\">\n",
       "  <thead>\n",
       "    <tr style=\"text-align: right;\">\n",
       "      <th></th>\n",
       "      <th>species</th>\n",
       "      <th>island</th>\n",
       "      <th>bill_length_mm</th>\n",
       "      <th>bill_depth_mm</th>\n",
       "      <th>flipper_length_mm</th>\n",
       "      <th>body_mass_g</th>\n",
       "      <th>sex</th>\n",
       "      <th>year</th>\n",
       "      <th>body_mass_kg</th>\n",
       "      <th>size</th>\n",
       "      <th>sample_col</th>\n",
       "    </tr>\n",
       "    <tr>\n",
       "      <th>id_code</th>\n",
       "      <th></th>\n",
       "      <th></th>\n",
       "      <th></th>\n",
       "      <th></th>\n",
       "      <th></th>\n",
       "      <th></th>\n",
       "      <th></th>\n",
       "      <th></th>\n",
       "      <th></th>\n",
       "      <th></th>\n",
       "      <th></th>\n",
       "    </tr>\n",
       "  </thead>\n",
       "  <tbody>\n",
       "    <tr>\n",
       "      <th>202</th>\n",
       "      <td>Adelie</td>\n",
       "      <td>Biscoe</td>\n",
       "      <td>37.8</td>\n",
       "      <td>18.3</td>\n",
       "      <td>174.0</td>\n",
       "      <td>3400.0</td>\n",
       "      <td>female</td>\n",
       "      <td>2007</td>\n",
       "      <td>3.40</td>\n",
       "      <td>medium</td>\n",
       "      <td>100</td>\n",
       "    </tr>\n",
       "    <tr>\n",
       "      <th>175</th>\n",
       "      <td>Adelie</td>\n",
       "      <td>Biscoe</td>\n",
       "      <td>37.7</td>\n",
       "      <td>18.7</td>\n",
       "      <td>180.0</td>\n",
       "      <td>3600.0</td>\n",
       "      <td>M</td>\n",
       "      <td>2007</td>\n",
       "      <td>3.60</td>\n",
       "      <td>medium</td>\n",
       "      <td>100</td>\n",
       "    </tr>\n",
       "    <tr>\n",
       "      <th>650</th>\n",
       "      <td>Adelie</td>\n",
       "      <td>Biscoe</td>\n",
       "      <td>35.9</td>\n",
       "      <td>19.2</td>\n",
       "      <td>189.0</td>\n",
       "      <td>3800.0</td>\n",
       "      <td>female</td>\n",
       "      <td>2007</td>\n",
       "      <td>3.80</td>\n",
       "      <td>medium</td>\n",
       "      <td>100</td>\n",
       "    </tr>\n",
       "    <tr>\n",
       "      <th>318</th>\n",
       "      <td>Adelie</td>\n",
       "      <td>Biscoe</td>\n",
       "      <td>38.2</td>\n",
       "      <td>18.1</td>\n",
       "      <td>185.0</td>\n",
       "      <td>3950.0</td>\n",
       "      <td>M</td>\n",
       "      <td>2007</td>\n",
       "      <td>3.95</td>\n",
       "      <td>medium</td>\n",
       "      <td>100</td>\n",
       "    </tr>\n",
       "    <tr>\n",
       "      <th>618</th>\n",
       "      <td>Adelie</td>\n",
       "      <td>Biscoe</td>\n",
       "      <td>38.8</td>\n",
       "      <td>17.2</td>\n",
       "      <td>180.0</td>\n",
       "      <td>3800.0</td>\n",
       "      <td>M</td>\n",
       "      <td>2007</td>\n",
       "      <td>3.80</td>\n",
       "      <td>medium</td>\n",
       "      <td>100</td>\n",
       "    </tr>\n",
       "  </tbody>\n",
       "</table>\n",
       "</div>"
      ],
      "text/plain": [
       "        species  island  bill_length_mm  bill_depth_mm  flipper_length_mm  \\\n",
       "id_code                                                                     \n",
       "202      Adelie  Biscoe            37.8           18.3              174.0   \n",
       "175      Adelie  Biscoe            37.7           18.7              180.0   \n",
       "650      Adelie  Biscoe            35.9           19.2              189.0   \n",
       "318      Adelie  Biscoe            38.2           18.1              185.0   \n",
       "618      Adelie  Biscoe            38.8           17.2              180.0   \n",
       "\n",
       "         body_mass_g     sex  year  body_mass_kg    size  sample_col  \n",
       "id_code                                                               \n",
       "202           3400.0  female  2007          3.40  medium         100  \n",
       "175           3600.0       M  2007          3.60  medium         100  \n",
       "650           3800.0  female  2007          3.80  medium         100  \n",
       "318           3950.0       M  2007          3.95  medium         100  \n",
       "618           3800.0       M  2007          3.80  medium         100  "
      ]
     },
     "execution_count": 34,
     "metadata": {},
     "output_type": "execute_result"
    }
   ],
   "source": [
    "# Confirm the new column is in our subset data\n",
    "biscoe.head()"
   ]
  },
  {
   "cell_type": "code",
   "execution_count": 35,
   "id": "ed8a120c-7eed-40e8-8a65-af6a85b75650",
   "metadata": {
    "tags": []
   },
   "outputs": [
    {
     "name": "stdout",
     "output_type": "stream",
     "text": [
      "False\n"
     ]
    }
   ],
   "source": [
    "# Confirm that original data was not modified\n",
    "print('sample_column' in penguins.columns)"
   ]
  }
 ],
 "metadata": {
  "kernelspec": {
   "display_name": "EDS220",
   "language": "python",
   "name": "eds220-env"
  },
  "language_info": {
   "codemirror_mode": {
    "name": "ipython",
    "version": 3
   },
   "file_extension": ".py",
   "mimetype": "text/x-python",
   "name": "python",
   "nbconvert_exporter": "python",
   "pygments_lexer": "ipython3",
   "version": "3.11.4"
  }
 },
 "nbformat": 4,
 "nbformat_minor": 5
}
