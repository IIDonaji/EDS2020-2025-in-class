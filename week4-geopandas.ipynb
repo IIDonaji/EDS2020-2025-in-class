{
 "cells": [
  {
   "cell_type": "markdown",
   "id": "e276ab02",
   "metadata": {},
   "source": [
    "# `Geopandas\n",
    "GeoPandas is a python library that extends pandsa by adding supprot for geospatal data"
   ]
  },
  {
   "cell_type": "code",
   "execution_count": null,
   "id": "bea88ad2",
   "metadata": {},
   "outputs": [],
   "source": [
    "import os\n",
    "import geopandas as gpd\n",
    "import matplotlib.pyplot as plt"
   ]
  },
  {
   "cell_type": "markdown",
   "id": "833fb788",
   "metadata": {},
   "source": [
    "To import data we firs use `os` package to create a reprodcibl file path:"
   ]
  },
  {
   "cell_type": "code",
   "execution_count": null,
   "id": "355b6a16",
   "metadata": {},
   "outputs": [],
   "source": [
    "fp = os.path.join('Data-in-class','gbif_sus_scrofa_california','gbif_sus_scrofa_california.shp')\n",
    "fp"
   ]
  },
  {
   "cell_type": "code",
   "execution_count": null,
   "id": "5453fdfa",
   "metadata": {},
   "outputs": [],
   "source": [
    "pigs = gpd.read_file(fp)\n",
    "pigs.head()"
   ]
  },
  {
   "cell_type": "code",
   "execution_count": null,
   "id": "b0e77818",
   "metadata": {},
   "outputs": [],
   "source": [
    "fp = os.path.join('Data-in-class','ca_state_boundary','ca_state_boundary.shp')\n",
    "ca_boundary = gpd.read_file(fp)\n",
    "ca_boundary\n",
    "\n"
   ]
  },
  {
   "cell_type": "markdown",
   "id": "e5c1b4b3",
   "metadata": {},
   "source": [
    "## Geoseries and Geodataframe\n",
    "geopandas.geodataframe = core structure in geopandas = pandas.DataFrame plus a dedicated geomtery \n",
    "\n",
    "geom columns holds"
   ]
  },
  {
   "cell_type": "code",
   "execution_count": null,
   "id": "aeb9ff46",
   "metadata": {},
   "outputs": [],
   "source": [
    "# Check the data type of the pigs dataframe \n",
    "print(type(pigs))\n",
    "\n",
    "# Check the data type of the geometry column\n",
    "print(type(pigs.geometry))\n",
    "\n",
    "# Check the data type of the gbifID column\n",
    "print(type(pigs.gbifID))"
   ]
  },
  {
   "cell_type": "code",
   "execution_count": null,
   "id": "98fad5f1",
   "metadata": {},
   "outputs": [],
   "source": [
    "# Check the data type of each column\n",
    "pigs.dtypes"
   ]
  },
  {
   "cell_type": "code",
   "execution_count": null,
   "id": "47bc6c8d",
   "metadata": {},
   "outputs": [],
   "source": [
    "# check of each elemnt\n",
    "pigs.geom_type"
   ]
  },
  {
   "cell_type": "markdown",
   "id": "d70886fc",
   "metadata": {},
   "source": [
    "What is the geomatry type of the single feature in the CA state boundary?"
   ]
  },
  {
   "cell_type": "code",
   "execution_count": null,
   "id": "5449975a",
   "metadata": {},
   "outputs": [],
   "source": [
    "ca_boundary.geom_type"
   ]
  },
  {
   "cell_type": "markdown",
   "id": "d3820361",
   "metadata": {},
   "source": [
    "## CRS\n",
    "** coordinate reference system (CRS)** = "
   ]
  },
  {
   "cell_type": "code",
   "execution_count": null,
   "id": "2420dd83",
   "metadata": {},
   "outputs": [],
   "source": [
    "# Access the CRS of the GeoDataFrame\n",
    "pigs.crs"
   ]
  },
  {
   "cell_type": "code",
   "execution_count": null,
   "id": "0ceaacb3",
   "metadata": {},
   "outputs": [],
   "source": [
    "# Examine CRS details\n",
    "print('Ellipsoid: ', pigs.crs.ellipsoid)\n",
    "print('Datum: ', pigs.crs.datum)\n",
    "print('Is geographic?: ', pigs.crs.is_geographic)\n",
    "print('Is projected?: ', pigs.crs.is_projected)"
   ]
  },
  {
   "cell_type": "code",
   "execution_count": null,
   "id": "00795be5",
   "metadata": {},
   "outputs": [],
   "source": [
    "\n",
    "# Obtain the geographic extent of the geo-dataframe\n",
    "pigs.total_bounds"
   ]
  },
  {
   "cell_type": "code",
   "execution_count": null,
   "id": "07a2000b",
   "metadata": {},
   "outputs": [],
   "source": [
    "# Examine CRS and extend of CA boundary\n",
    "print('CRS:', ca_boundary.crs, '\\n')\n",
    "print(ca_boundary.total_bounds)"
   ]
  },
  {
   "cell_type": "code",
   "execution_count": null,
   "id": "1f0f135a",
   "metadata": {},
   "outputs": [],
   "source": [
    "pigs.crs == ca_boundary.crs"
   ]
  },
  {
   "cell_type": "markdown",
   "id": "50858c8e",
   "metadata": {},
   "source": [
    " ## Data wrangling\n",
    "GeoPandas is conveniently built on top of pandas, so we may use everything we have learned about data selection, wrangling, and modification for a pandas.DataFrame to wrange geopandas.GeoDataFrames."
   ]
  },
  {
   "cell_type": "markdown",
   "id": "3e092656",
   "metadata": {},
   "source": [
    "### Example\n",
    "We only want to use recent data for wild pig observations. A quick check shows that this dataframe has data since 1818:"
   ]
  },
  {
   "cell_type": "code",
   "execution_count": null,
   "id": "df93fbee",
   "metadata": {},
   "outputs": [],
   "source": [
    "# Examine pig observation by year\n",
    "pigs['year'].value_counts().sort_index()"
   ]
  },
  {
   "cell_type": "code",
   "execution_count": null,
   "id": "5dbb400f",
   "metadata": {},
   "outputs": [],
   "source": [
    "# Select data from 2020 onwards\n",
    "pigs_recent = pigs[pigs.year>=2020]\n",
    "\n",
    "# Check length of original dataframe\n",
    "print('Total number of observations: ' , len(pigs))\n",
    "\n",
    "# Check length of new dataframe\n",
    "print('Number of observations since 2020: ' , len(pigs_recent))"
   ]
  },
  {
   "cell_type": "code",
   "execution_count": null,
   "id": "7fadef89",
   "metadata": {},
   "outputs": [],
   "source": [
    "# Create a map (preliminary)\n",
    "# gpd.GeoDataFrame has a plot() method that quickly creates a map for our data..\n",
    "pigs_recent.plot()"
   ]
  },
  {
   "cell_type": "markdown",
   "id": "02827b53",
   "metadata": {},
   "source": [
    "## matplotlib’s fig and ax\n",
    "we can interadt with `matplotlib` via its `pyplot` interface.\n",
    "\n",
    "Matplotlib graphs the date in a **figure** which can have one or more *axes*.\n",
    "The axes is *only* the area specified by the y\n",
    " axis and x axis and what is plotted in it, while the figure can include multiple axes in it."
   ]
  },
  {
   "cell_type": "code",
   "execution_count": null,
   "id": "65e25cb7",
   "metadata": {},
   "outputs": [],
   "source": [
    "# Initialize empty figure (fig) and axis (ax)\n",
    "fig, ax = plt.subplots() # returns two object: fig  and ax\n",
    "\n",
    "# Display figure\n",
    "plt.show()"
   ]
  },
  {
   "cell_type": "markdown",
   "id": "2cc3e49b",
   "metadata": {},
   "source": [
    "### Adding a layer\n",
    "\n",
    "When usong `matplot` it canbe usedul to think of creating a plot as addin layers to an axis. \n",
    "Example:\n",
    "The first layer we want to to add to our "
   ]
  },
  {
   "cell_type": "code",
   "execution_count": null,
   "id": "7fb66506",
   "metadata": {},
   "outputs": [],
   "source": [
    "# Initialize empyt figure and axis\n",
    "fig, ax = plt.subplots()\n",
    "\n",
    "# Add pigs point plot to our figure's axis\n",
    "pigs_recent.plot(ax=ax)\n",
    "\n",
    "# Display figure\n",
    "plt.show()\n"
   ]
  },
  {
   "cell_type": "markdown",
   "id": "af440a25",
   "metadata": {},
   "source": [
    "### Customization\n",
    "Matplotlib allows for a lot of customization. Some of it can be done directly in the plot() method for the dataframe, while other is done by updating attributes of the ax axis. "
   ]
  },
  {
   "cell_type": "code",
   "execution_count": null,
   "id": "ca95fba4",
   "metadata": {},
   "outputs": [],
   "source": [
    "# Initialize empyt figure and axis\n",
    "fig, ax = plt.subplots()\n",
    "\n",
    "# Add CA Boundary\n",
    "ca_boundary.plot(ax=ax,\n",
    "                 color= 'none',\n",
    "                 edgecolor= \"green\"\n",
    "                 )\n",
    "\n",
    "# Add pigs point plot to our figure's axis\n",
    "pigs_recent.plot(ax=ax,\n",
    "                 alpha= 0.5,\n",
    "                 color= 'brown')\n",
    "\n",
    "\n",
    "# Update axis \n",
    "ax.set_title('Reported \"Sus scrofa\" sightings in CA (2020-2023)')\n",
    "ax.set_xlabel('Longitude')\n",
    "ax.set_ylabel('Latitude')\n",
    "\n",
    "# Display figure\n",
    "plt.show()"
   ]
  },
  {
   "cell_type": "markdown",
   "id": "6c014a93",
   "metadata": {},
   "source": [
    "\n",
    "## Check-in\n",
    "1. Add the California state boundary to the plot so the boundary appears behind the points as below. Don’t forget to customize your graph!\n",
    "\n",
    "2. Write a short caption for your map describing the spatial distribution of observations. What patterns or clusters do you notice?\n",
    "    Wild pigs are commonly seen along the costlines.\n",
    "\n",
    "3. Discuss with a partner: what are some possible biases or limitations in GBIF species occurrence data (e.g., spatial coverage, sampling effort, data quality)?\n",
    "    Community science can be limited most observation are done in areas where humans are more common and have more accesses to see those observations. \n",
    "\n"
   ]
  }
 ],
 "metadata": {
  "kernelspec": {
   "display_name": "EDS-220 env",
   "language": "python",
   "name": "eds220-env"
  },
  "language_info": {
   "codemirror_mode": {
    "name": "ipython",
    "version": 3
   },
   "file_extension": ".py",
   "mimetype": "text/x-python",
   "name": "python",
   "nbconvert_exporter": "python",
   "pygments_lexer": "ipython3",
   "version": "3.11.4"
  }
 },
 "nbformat": 4,
 "nbformat_minor": 5
}
